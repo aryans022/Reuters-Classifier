{
 "cells": [
  {
   "cell_type": "code",
   "execution_count": 1,
   "metadata": {},
   "outputs": [
    {
     "name": "stderr",
     "output_type": "stream",
     "text": [
      "Using TensorFlow backend.\n",
      "C:\\Users\\Aryan\\anaconda3\\lib\\site-packages\\tensorflow\\python\\framework\\dtypes.py:516: FutureWarning: Passing (type, 1) or '1type' as a synonym of type is deprecated; in a future version of numpy, it will be understood as (type, (1,)) / '(1,)type'.\n",
      "  _np_qint8 = np.dtype([(\"qint8\", np.int8, 1)])\n",
      "C:\\Users\\Aryan\\anaconda3\\lib\\site-packages\\tensorflow\\python\\framework\\dtypes.py:517: FutureWarning: Passing (type, 1) or '1type' as a synonym of type is deprecated; in a future version of numpy, it will be understood as (type, (1,)) / '(1,)type'.\n",
      "  _np_quint8 = np.dtype([(\"quint8\", np.uint8, 1)])\n",
      "C:\\Users\\Aryan\\anaconda3\\lib\\site-packages\\tensorflow\\python\\framework\\dtypes.py:518: FutureWarning: Passing (type, 1) or '1type' as a synonym of type is deprecated; in a future version of numpy, it will be understood as (type, (1,)) / '(1,)type'.\n",
      "  _np_qint16 = np.dtype([(\"qint16\", np.int16, 1)])\n",
      "C:\\Users\\Aryan\\anaconda3\\lib\\site-packages\\tensorflow\\python\\framework\\dtypes.py:519: FutureWarning: Passing (type, 1) or '1type' as a synonym of type is deprecated; in a future version of numpy, it will be understood as (type, (1,)) / '(1,)type'.\n",
      "  _np_quint16 = np.dtype([(\"quint16\", np.uint16, 1)])\n",
      "C:\\Users\\Aryan\\anaconda3\\lib\\site-packages\\tensorflow\\python\\framework\\dtypes.py:520: FutureWarning: Passing (type, 1) or '1type' as a synonym of type is deprecated; in a future version of numpy, it will be understood as (type, (1,)) / '(1,)type'.\n",
      "  _np_qint32 = np.dtype([(\"qint32\", np.int32, 1)])\n",
      "C:\\Users\\Aryan\\anaconda3\\lib\\site-packages\\tensorflow\\python\\framework\\dtypes.py:525: FutureWarning: Passing (type, 1) or '1type' as a synonym of type is deprecated; in a future version of numpy, it will be understood as (type, (1,)) / '(1,)type'.\n",
      "  np_resource = np.dtype([(\"resource\", np.ubyte, 1)])\n",
      "C:\\Users\\Aryan\\anaconda3\\lib\\site-packages\\tensorboard\\compat\\tensorflow_stub\\dtypes.py:541: FutureWarning: Passing (type, 1) or '1type' as a synonym of type is deprecated; in a future version of numpy, it will be understood as (type, (1,)) / '(1,)type'.\n",
      "  _np_qint8 = np.dtype([(\"qint8\", np.int8, 1)])\n",
      "C:\\Users\\Aryan\\anaconda3\\lib\\site-packages\\tensorboard\\compat\\tensorflow_stub\\dtypes.py:542: FutureWarning: Passing (type, 1) or '1type' as a synonym of type is deprecated; in a future version of numpy, it will be understood as (type, (1,)) / '(1,)type'.\n",
      "  _np_quint8 = np.dtype([(\"quint8\", np.uint8, 1)])\n",
      "C:\\Users\\Aryan\\anaconda3\\lib\\site-packages\\tensorboard\\compat\\tensorflow_stub\\dtypes.py:543: FutureWarning: Passing (type, 1) or '1type' as a synonym of type is deprecated; in a future version of numpy, it will be understood as (type, (1,)) / '(1,)type'.\n",
      "  _np_qint16 = np.dtype([(\"qint16\", np.int16, 1)])\n",
      "C:\\Users\\Aryan\\anaconda3\\lib\\site-packages\\tensorboard\\compat\\tensorflow_stub\\dtypes.py:544: FutureWarning: Passing (type, 1) or '1type' as a synonym of type is deprecated; in a future version of numpy, it will be understood as (type, (1,)) / '(1,)type'.\n",
      "  _np_quint16 = np.dtype([(\"quint16\", np.uint16, 1)])\n",
      "C:\\Users\\Aryan\\anaconda3\\lib\\site-packages\\tensorboard\\compat\\tensorflow_stub\\dtypes.py:545: FutureWarning: Passing (type, 1) or '1type' as a synonym of type is deprecated; in a future version of numpy, it will be understood as (type, (1,)) / '(1,)type'.\n",
      "  _np_qint32 = np.dtype([(\"qint32\", np.int32, 1)])\n",
      "C:\\Users\\Aryan\\anaconda3\\lib\\site-packages\\tensorboard\\compat\\tensorflow_stub\\dtypes.py:550: FutureWarning: Passing (type, 1) or '1type' as a synonym of type is deprecated; in a future version of numpy, it will be understood as (type, (1,)) / '(1,)type'.\n",
      "  np_resource = np.dtype([(\"resource\", np.ubyte, 1)])\n"
     ]
    }
   ],
   "source": [
    "from keras.datasets import reuters"
   ]
  },
  {
   "cell_type": "code",
   "execution_count": 2,
   "metadata": {},
   "outputs": [],
   "source": [
    "(training_data, training_labels), (test_data, test_labels) = reuters.load_data(num_words=10000)"
   ]
  },
  {
   "cell_type": "code",
   "execution_count": 3,
   "metadata": {},
   "outputs": [
    {
     "name": "stdout",
     "output_type": "stream",
     "text": [
      "(8982,)\n",
      "(8982,)\n",
      "(2246,)\n",
      "(2246,)\n"
     ]
    }
   ],
   "source": [
    "print(training_data.shape)\n",
    "print(training_labels.shape)\n",
    "print(test_data.shape)\n",
    "print(test_labels.shape)"
   ]
  },
  {
   "cell_type": "code",
   "execution_count": 4,
   "metadata": {},
   "outputs": [
    {
     "name": "stdout",
     "output_type": "stream",
     "text": [
      " generale de banque sa lt  br and lt heller overseas corp of chicago have each taken 50 pct stakes in  company sa  factors generale de banque said in a statement it gave no financial details of the transaction sa   turnover in 1986 was 17 5 billion belgian francs reuter 3\n"
     ]
    }
   ],
   "source": [
    "word_index = reuters.get_word_index()\n",
    "reverse_word_index = dict([(value, key) for (key, value) in word_index.items()])\n",
    "decoded_article = \" \".join([reverse_word_index.get(i-3, \"\") for i in training_data[1]])\n",
    "print(decoded_article)"
   ]
  },
  {
   "cell_type": "code",
   "execution_count": 5,
   "metadata": {},
   "outputs": [],
   "source": [
    "import numpy as np\n",
    "\n",
    "def vectorize_sequence(sequences, dimension = 10000):\n",
    "    result = np.zeros((len(sequences), dimension))\n",
    "    for i, sequence in enumerate(sequences):\n",
    "        result[i][sequence] = 1\n",
    "    return result\n",
    "\n",
    "x_training = vectorize_sequence(training_data)\n",
    "x_test = vectorize_sequence(test_data)"
   ]
  },
  {
   "cell_type": "code",
   "execution_count": 6,
   "metadata": {},
   "outputs": [],
   "source": [
    "def vectorize_label(labels, dimension = 46):\n",
    "    result = np.zeros((len(labels), dimension))\n",
    "    for i, label in enumerate(labels):\n",
    "        result[i][label] = 1\n",
    "    return result\n",
    "\n",
    "y_training = vectorize_label(training_labels)\n",
    "y_test = vectorize_label(test_labels)"
   ]
  },
  {
   "cell_type": "code",
   "execution_count": 7,
   "metadata": {},
   "outputs": [],
   "source": [
    "from keras import models\n",
    "from keras import layers\n",
    "\n",
    "model = models.Sequential()\n",
    "model.add(layers.Dense(64, activation = \"relu\", input_shape = (10000, )))\n",
    "model.add(layers.Dense(64, activation = \"relu\"))\n",
    "model.add(layers.Dense(46, activation = \"softmax\"))"
   ]
  },
  {
   "cell_type": "code",
   "execution_count": 8,
   "metadata": {},
   "outputs": [],
   "source": [
    "model.compile(optimizer = \"rmsprop\", loss = \"categorical_crossentropy\", metrics = [\"accuracy\"])"
   ]
  },
  {
   "cell_type": "code",
   "execution_count": 9,
   "metadata": {},
   "outputs": [],
   "source": [
    "x_tst1 = x_training[:1000]\n",
    "x_trn1 = x_training[1000:]\n",
    "\n",
    "y_tst1 = y_training[:1000]\n",
    "y_trn1 = y_training[1000:]"
   ]
  },
  {
   "cell_type": "code",
   "execution_count": 10,
   "metadata": {},
   "outputs": [
    {
     "name": "stdout",
     "output_type": "stream",
     "text": [
      "WARNING:tensorflow:From C:\\Users\\Aryan\\anaconda3\\lib\\site-packages\\keras\\backend\\tensorflow_backend.py:422: The name tf.global_variables is deprecated. Please use tf.compat.v1.global_variables instead.\n",
      "\n",
      "Train on 7982 samples, validate on 1000 samples\n",
      "Epoch 1/20\n",
      "7982/7982 [==============================] - 1s 152us/step - loss: 2.5246 - accuracy: 0.5137 - val_loss: 1.6504 - val_accuracy: 0.6490\n",
      "Epoch 2/20\n",
      "7982/7982 [==============================] - 1s 115us/step - loss: 1.3749 - accuracy: 0.7085 - val_loss: 1.2798 - val_accuracy: 0.7130\n",
      "Epoch 3/20\n",
      "7982/7982 [==============================] - 1s 116us/step - loss: 1.0236 - accuracy: 0.7804 - val_loss: 1.1136 - val_accuracy: 0.7670\n",
      "Epoch 4/20\n",
      "7982/7982 [==============================] - 1s 119us/step - loss: 0.7990 - accuracy: 0.8315 - val_loss: 1.0153 - val_accuracy: 0.7840\n",
      "Epoch 5/20\n",
      "7982/7982 [==============================] - 1s 125us/step - loss: 0.6274 - accuracy: 0.8677 - val_loss: 0.9819 - val_accuracy: 0.7870\n",
      "Epoch 6/20\n",
      "7982/7982 [==============================] - 1s 121us/step - loss: 0.4981 - accuracy: 0.8958 - val_loss: 0.9531 - val_accuracy: 0.7950\n",
      "Epoch 7/20\n",
      "7982/7982 [==============================] - 1s 117us/step - loss: 0.4020 - accuracy: 0.9144 - val_loss: 0.9327 - val_accuracy: 0.7960\n",
      "Epoch 8/20\n",
      "7982/7982 [==============================] - 1s 116us/step - loss: 0.3251 - accuracy: 0.9308 - val_loss: 0.8978 - val_accuracy: 0.8130\n",
      "Epoch 9/20\n",
      "7982/7982 [==============================] - 1s 113us/step - loss: 0.2683 - accuracy: 0.9406 - val_loss: 0.8965 - val_accuracy: 0.8190\n",
      "Epoch 10/20\n",
      "7982/7982 [==============================] - 1s 115us/step - loss: 0.2311 - accuracy: 0.9451 - val_loss: 0.9401 - val_accuracy: 0.8210\n",
      "Epoch 11/20\n",
      "7982/7982 [==============================] - 1s 115us/step - loss: 0.1972 - accuracy: 0.9499 - val_loss: 0.9093 - val_accuracy: 0.8210\n",
      "Epoch 12/20\n",
      "7982/7982 [==============================] - 1s 119us/step - loss: 0.1767 - accuracy: 0.9521 - val_loss: 0.9451 - val_accuracy: 0.8200\n",
      "Epoch 13/20\n",
      "7982/7982 [==============================] - 1s 114us/step - loss: 0.1584 - accuracy: 0.9530 - val_loss: 0.9384 - val_accuracy: 0.8230\n",
      "Epoch 14/20\n",
      "7982/7982 [==============================] - 1s 113us/step - loss: 0.1478 - accuracy: 0.9548 - val_loss: 0.9781 - val_accuracy: 0.8180\n",
      "Epoch 15/20\n",
      "7982/7982 [==============================] - 1s 113us/step - loss: 0.1376 - accuracy: 0.9558 - val_loss: 0.9908 - val_accuracy: 0.8160\n",
      "Epoch 16/20\n",
      "7982/7982 [==============================] - 1s 118us/step - loss: 0.1266 - accuracy: 0.9562 - val_loss: 0.9848 - val_accuracy: 0.8150\n",
      "Epoch 17/20\n",
      "7982/7982 [==============================] - 1s 116us/step - loss: 0.1236 - accuracy: 0.9555 - val_loss: 1.0520 - val_accuracy: 0.8070\n",
      "Epoch 18/20\n",
      "7982/7982 [==============================] - 1s 116us/step - loss: 0.1220 - accuracy: 0.9573 - val_loss: 1.0719 - val_accuracy: 0.8060\n",
      "Epoch 19/20\n",
      "7982/7982 [==============================] - 1s 120us/step - loss: 0.1163 - accuracy: 0.9577 - val_loss: 1.0332 - val_accuracy: 0.8160\n",
      "Epoch 20/20\n",
      "7982/7982 [==============================] - 1s 114us/step - loss: 0.1092 - accuracy: 0.9593 - val_loss: 1.0655 - val_accuracy: 0.8070\n"
     ]
    }
   ],
   "source": [
    "history = model.fit(x_trn1, y_trn1, epochs = 20, batch_size = 512, validation_data = (x_tst1, y_tst1))"
   ]
  },
  {
   "cell_type": "code",
   "execution_count": 11,
   "metadata": {},
   "outputs": [
    {
     "data": {
      "image/png": "[encoded data removed]",
      "text/plain": [
       "<Figure size 432x288 with 1 Axes>"
      ]
     },
     "metadata": {
      "needs_background": "light"
     },
     "output_type": "display_data"
    }
   ],
   "source": [
    "import matplotlib.pyplot as plt\n",
    "\n",
    "history_dict = history.history\n",
    "\n",
    "loss = history_dict[\"loss\"]\n",
    "val_loss = history_dict[\"val_loss\"]\n",
    "epochs = range(1, len(loss)+1)\n",
    "\n",
    "\n",
    "plt.plot(epochs, loss, \"bo\", label = \"Training Loss\")\n",
    "plt.plot(epochs, val_loss, \"b\", label = \"Validation Loss\")\n",
    "plt.xlabel(\"Epochs\")\n",
    "plt.ylabel(\"Loss\")\n",
    "plt.legend()\n",
    "\n",
    "plt.show()"
   ]
  },
  {
   "cell_type": "code",
   "execution_count": 12,
   "metadata": {},
   "outputs": [
    {
     "data": {
      "image/png": "[encoded data removed]",
      "text/plain": [
       "<Figure size 432x288 with 1 Axes>"
      ]
     },
     "metadata": {
      "needs_background": "light"
     },
     "output_type": "display_data"
    }
   ],
   "source": [
    "acc = history_dict[\"accuracy\"]\n",
    "val_acc = history_dict[\"val_accuracy\"]\n",
    "\n",
    "plt.clf()\n",
    "\n",
    "plt.plot(epochs, acc, \"bo\", label = \"Training Accuracy\")\n",
    "plt.plot(epochs, val_acc, \"b\", label = \"Validation Accuracy\")\n",
    "plt.xlabel(\"Epochs\")\n",
    "plt.ylabel(\"Accuracy\")\n",
    "plt.legend()\n",
    "\n",
    "plt.show()"
   ]
  },
  {
   "cell_type": "code",
   "execution_count": 13,
   "metadata": {},
   "outputs": [
    {
     "name": "stdout",
     "output_type": "stream",
     "text": [
      "Train on 7982 samples, validate on 1000 samples\n",
      "Epoch 1/9\n",
      "7982/7982 [==============================] - 1s 148us/step - loss: 2.6121 - accuracy: 0.5262 - val_loss: 1.7484 - val_accuracy: 0.6200\n",
      "Epoch 2/9\n",
      "7982/7982 [==============================] - 1s 119us/step - loss: 1.4301 - accuracy: 0.6999 - val_loss: 1.3175 - val_accuracy: 0.7320\n",
      "Epoch 3/9\n",
      "7982/7982 [==============================] - 1s 115us/step - loss: 1.0650 - accuracy: 0.7765 - val_loss: 1.1718 - val_accuracy: 0.7540\n",
      "Epoch 4/9\n",
      "7982/7982 [==============================] - 1s 119us/step - loss: 0.8385 - accuracy: 0.8240 - val_loss: 1.0441 - val_accuracy: 0.7820\n",
      "Epoch 5/9\n",
      "7982/7982 [==============================] - 1s 113us/step - loss: 0.6682 - accuracy: 0.8601 - val_loss: 0.9763 - val_accuracy: 0.7910\n",
      "Epoch 6/9\n",
      "7982/7982 [==============================] - 1s 119us/step - loss: 0.5334 - accuracy: 0.8900 - val_loss: 0.9263 - val_accuracy: 0.8020\n",
      "Epoch 7/9\n",
      "7982/7982 [==============================] - 1s 121us/step - loss: 0.4272 - accuracy: 0.9118 - val_loss: 0.9009 - val_accuracy: 0.8230\n",
      "Epoch 8/9\n",
      "7982/7982 [==============================] - 1s 114us/step - loss: 0.3513 - accuracy: 0.9266 - val_loss: 0.9061 - val_accuracy: 0.8110\n",
      "Epoch 9/9\n",
      "7982/7982 [==============================] - 1s 116us/step - loss: 0.2846 - accuracy: 0.9391 - val_loss: 0.8783 - val_accuracy: 0.8200\n",
      "2246/2246 [==============================] - 0s 166us/step\n"
     ]
    }
   ],
   "source": [
    "model = models.Sequential()\n",
    "\n",
    "model.add(layers.Dense(64, activation = \"relu\", input_shape = (10000, )))\n",
    "model.add(layers.Dense(64, activation = \"relu\"))\n",
    "model.add(layers.Dense(46, activation = \"softmax\"))\n",
    "\n",
    "model.compile(optimizer = \"rmsprop\", loss = \"categorical_crossentropy\", metrics = [\"accuracy\"])\n",
    "\n",
    "model.fit(x_trn1, y_trn1, epochs = 9, batch_size = 512, validation_data = (x_tst1, y_tst1))\n",
    "\n",
    "results = model.evaluate(x_test, y_test)"
   ]
  },
  {
   "cell_type": "code",
   "execution_count": 14,
   "metadata": {},
   "outputs": [
    {
     "name": "stdout",
     "output_type": "stream",
     "text": [
      "[0.9798281625881857, 0.7902938723564148]\n"
     ]
    }
   ],
   "source": [
    "print(results)"
   ]
  },
  {
   "cell_type": "code",
   "execution_count": 15,
   "metadata": {},
   "outputs": [],
   "source": [
    "predictions = model.predict(x_test)"
   ]
  },
  {
   "cell_type": "code",
   "execution_count": 16,
   "metadata": {},
   "outputs": [
    {
     "name": "stdout",
     "output_type": "stream",
     "text": [
      "3\n"
     ]
    }
   ],
   "source": [
    "print(np.argmax(predictions[0]))"
   ]
  }
 ],
 "metadata": {
  "kernelspec": {
   "display_name": "Python 3",
   "language": "python",
   "name": "python3"
  },
  "language_info": {
   "codemirror_mode": {
    "name": "ipython",
    "version": 3
   },
   "file_extension": ".py",
   "mimetype": "text/x-python",
   "name": "python",
   "nbconvert_exporter": "python",
   "pygments_lexer": "ipython3",
   "version": "3.6.10"
  }
 },
 "nbformat": 4,
 "nbformat_minor": 4
}
